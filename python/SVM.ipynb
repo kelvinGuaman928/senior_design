import pandas as pd 
from sklearn import svm
from sklearn.preprocessing import StandardScaler
from sklearn.metrics import accuracy_score,confusion_matrix

train = pd.read_csv(r'train_data.csv',index_col = 0)
test= pd.read_csv(r'train_downa_2.csv',index_col = 0)

X_train =train[['magnitude_acc','magnitude_acc2','magnitude_gyro','magnitude_gyro2']]
Y_train = train['activity']

X_test = test[['magnitude_acc','magnitude_acc2','magnitude_gyro','magnitude_gyro2']]
Y_test = test['activity']


sc = StandardScaler()
X_train = sc.fit_transform(X_train)
X_test = sc.transform(X_test)
# rbf instead of linear gives better results 
ML = svm.SVC(kernel = 'rbf',gamma = .01,C= 1)
ML.fit(X_train,Y_train)

y_test_pred=ML.predict(X_test)
y_test_pred

y_train_pred = ML.predict(X_train)

# display a table of the true value of result ans what the ML predicted
df=pd.DataFrame({'Actual':Y_test, 'Predicted':y_test_pred})

# gives an accuracy of 90-95%
accuracy=accuracy_score(Y_test,y_test_pred)
accuracy = accuracy * 100
print(int(accuracy))

Matrix =confusion_matrix(y_test_pred,Y_test)
print(Matrix)


